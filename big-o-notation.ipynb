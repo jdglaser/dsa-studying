{
 "cells": [
  {
   "cell_type": "code",
   "execution_count": 8,
   "metadata": {},
   "outputs": [
    {
     "data": {
      "text/html": [
       "<script>\n",
       "code_show=true; \n",
       "function code_toggle() {\n",
       "    if (code_show){\n",
       "        $('div.cell.code_cell.rendered.selected div.input').hide();\n",
       "    } else {\n",
       "        $('div.cell.code_cell.rendered.selected div.input').show();\n",
       "    }\n",
       "    code_show = !code_show\n",
       "} \n",
       "$( document ).ready(code_toggle);\n",
       "</script>\n",
       "To show/hide this cell's raw code input, click <a href=\"javascript:code_toggle()\">here</a>."
      ],
      "text/plain": [
       "<IPython.core.display.HTML object>"
      ]
     },
     "metadata": {},
     "output_type": "display_data"
    }
   ],
   "source": [
    "from IPython.display import HTML\n",
    "from IPython.display import display\n",
    "\n",
    "# Taken from https://stackoverflow.com/questions/31517194/how-to-hide-one-specific-cell-input-or-output-in-ipython-notebook\n",
    "tag = HTML('''<script>\n",
    "code_show=true; \n",
    "function code_toggle() {\n",
    "    if (code_show){\n",
    "        $('div.cell.code_cell.rendered.selected div.input').hide();\n",
    "    } else {\n",
    "        $('div.cell.code_cell.rendered.selected div.input').show();\n",
    "    }\n",
    "    code_show = !code_show\n",
    "} \n",
    "$( document ).ready(code_toggle);\n",
    "</script>\n",
    "To show/hide this cell's raw code input, click <a href=\"javascript:code_toggle()\">here</a>.''')\n",
    "display(tag)"
   ]
  },
  {
   "cell_type": "code",
   "execution_count": 10,
   "metadata": {},
   "outputs": [
    {
     "data": {
      "text/html": [
       "<script>\n",
       "code_show=true; \n",
       "function code_toggle() {\n",
       "    if (code_show){\n",
       "        $('div.cell.code_cell.rendered.selected div.input').hide();\n",
       "    } else {\n",
       "        $('div.cell.code_cell.rendered.selected div.input').show();\n",
       "    }\n",
       "    code_show = !code_show\n",
       "} \n",
       "$( document ).ready(code_toggle);\n",
       "</script>\n",
       "To show/hide this cell's raw code input, click <a href=\"javascript:code_toggle()\">here</a>."
      ],
      "text/plain": [
       "<IPython.core.display.HTML object>"
      ]
     },
     "metadata": {},
     "output_type": "display_data"
    },
    {
     "name": "stdout",
     "output_type": "stream",
     "text": [
      "Hello!\n"
     ]
    }
   ],
   "source": [
    "display(tag)\n",
    "\n",
    "print(\"Hello!\")"
   ]
  },
  {
   "attachments": {},
   "cell_type": "markdown",
   "metadata": {},
   "source": [
    "# Big-O Notation Overview\n",
    "\n",
    "## Math Review\n",
    "\n",
    "+ Before we can discuss Big-O notation and algorithmic complexity, we must review a few key math topics\n",
    "\n",
    "### Functions\n",
    "\n",
    "+ A function is something that takes and input and produces and output.\n",
    "+ Traditionally written like $f(x)$.\n",
    "+ For example, the function $f(x) = x + 5$ is a function that takes in some value for $x$ and adds $5$ to it.\n",
    "+ We can see some examples of plugging in numbers to our function below\n",
    "\n",
    "    $\n",
    "    \\begin{aligned}\n",
    "    f(x) &= x + 5 \\\\\n",
    "    f(10) &= 10 + 5 = 15 \\\\\n",
    "    f(4) &= 4 + 5 = 9 \\\\\n",
    "    f(-4) &= -4 + 5 = 1\n",
    "    \\end{aligned}\n",
    "    $\n",
    "\n",
    "### Graphing functions\n",
    "\n",
    "+ We can graph the inputs and outputs of functions on the standard **Cartesian Plane**\n",
    "+ The **Cartesian Plane** is the standard 2-dimensional coordinate plane that you may be familiar with from high school mathematics\n",
    "+ The **Cartesian Plane** consists of a **horizontal x-axis** and a **vertical y-axis**"
   ]
  },
  {
   "cell_type": "code",
   "execution_count": null,
   "metadata": {},
   "outputs": [],
   "source": [
    "{\n",
    "    \"tags\": [\n",
    "        \"hide-input\",\n",
    "    ]\n",
    "}\n",
    "\n"
   ]
  },
  {
   "attachments": {},
   "cell_type": "markdown",
   "metadata": {},
   "source": [
    "# Big-O Notation\n",
    "\n",
    "## What is Big-O?\n",
    "\n",
    "+ Big-O notation measures the worst case time complexity of an algorithm\n",
    "+ Why not just use the actual runtime of the algorithm to measure performance?\n",
    "  + The actual running time of an algorithm (e.g. 10 seconds or 30 minutes) can vary based on a variety of factors, such as the computer hardware that the algorithm is running on or the programming language being used.\n",
    "+ Instead, we use a method called **Big-O** to express the runtime of an algorithm in terms of how quickly the runtime grows relative to the input as the input gets arbitrarily large.\n",
    "+ In **Big-O** notation, we use the size of the input, which we call $n$ to compare a function. As $n$ grows larger, we want to see how the runtime of the program changes.\n",
    "+ We can view this notation on a graph. For example, the below graphs show $O(1)$ and $O(n)$ respectively.\n",
    "\n",
    "+ \n",
    "+ In **Big-O** notation we don't care about constants, that is, we don't care about  any value that does not scale with the size of the input\n",
    "  + e.g. 10, 2, 105 are all constants\n",
    "+ "
   ]
  },
  {
   "cell_type": "code",
   "execution_count": 2,
   "metadata": {},
   "outputs": [
    {
     "data": {
      "image/png": "[encoded data removed]",
      "text/plain": [
       "<Figure size 640x480 with 1 Axes>"
      ]
     },
     "metadata": {},
     "output_type": "display_data"
    }
   ],
   "source": [
    "import matplotlib.pyplot as plt\n",
    "import numpy as np\n",
    "\n",
    "from labellines import labelLine, labelLines\n",
    "\n",
    "fig, ax1 = plt.subplots()\n",
    "\n",
    "x = np.linspace(0, 10, 1000)\n",
    "y = [1 for _ in x]\n",
    "\n",
    "ax1.plot(x, x**2, label=\"O(1)\")\n",
    "ax1.plot(x, y, label=\"O(n)\")\n",
    "\n",
    "ax1.set_xlabel(\"Runtime\")\n",
    "ax1.set_ylabel(\"n\", rotation=0)\n",
    "\n",
    "labelLines(ax1.get_lines(), align=False, fontsize=10)\n",
    "\n",
    "plt.show()"
   ]
  }
 ],
 "metadata": {
  "kernelspec": {
   "display_name": "leetcode-study",
   "language": "python",
   "name": "python3"
  },
  "language_info": {
   "codemirror_mode": {
    "name": "ipython",
    "version": 3
   },
   "file_extension": ".py",
   "mimetype": "text/x-python",
   "name": "python",
   "nbconvert_exporter": "python",
   "pygments_lexer": "ipython3",
   "version": "3.11.3"
  },
  "orig_nbformat": 4
 },
 "nbformat": 4,
 "nbformat_minor": 2
}
